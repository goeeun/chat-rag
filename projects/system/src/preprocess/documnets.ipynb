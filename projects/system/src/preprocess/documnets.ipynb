{
 "cells": [
  {
   "cell_type": "code",
   "id": "initial_id",
   "metadata": {
    "collapsed": true,
    "ExecuteTime": {
     "end_time": "2025-01-20T08:59:54.173406Z",
     "start_time": "2025-01-20T08:59:54.163319Z"
    }
   },
   "source": [
    "import os\n",
    "\n",
    "os.environ[\"Claude_API_KEY\"] = \"sk-ant-...\""
   ],
   "outputs": [],
   "execution_count": 1
  },
  {
   "metadata": {
    "ExecuteTime": {
     "end_time": "2025-01-20T09:39:41.316202Z",
     "start_time": "2025-01-20T09:39:36.916965Z"
    }
   },
   "cell_type": "code",
   "source": [
    "!pip install llama-index\n",
    "!pip install llama-index-llms-mistralai\n",
    "!pip install llama-index-embeddings-mistralai"
   ],
   "id": "6da0cab7b81a5d59",
   "outputs": [
    {
     "name": "stdout",
     "output_type": "stream",
     "text": [
      "Requirement already satisfied: llama-index in c:\\users\\goeeu\\anaconda3\\envs\\chatrag\\lib\\site-packages (0.12.11)\n",
      "Requirement already satisfied: llama-index-agent-openai<0.5.0,>=0.4.0 in c:\\users\\goeeu\\anaconda3\\envs\\chatrag\\lib\\site-packages (from llama-index) (0.4.2)\n",
      "Requirement already satisfied: llama-index-cli<0.5.0,>=0.4.0 in c:\\users\\goeeu\\anaconda3\\envs\\chatrag\\lib\\site-packages (from llama-index) (0.4.0)\n",
      "Requirement already satisfied: llama-index-core<0.13.0,>=0.12.11 in c:\\users\\goeeu\\anaconda3\\envs\\chatrag\\lib\\site-packages (from llama-index) (0.12.11)\n",
      "Requirement already satisfied: llama-index-embeddings-openai<0.4.0,>=0.3.0 in c:\\users\\goeeu\\anaconda3\\envs\\chatrag\\lib\\site-packages (from llama-index) (0.3.1)\n",
      "Requirement already satisfied: llama-index-indices-managed-llama-cloud>=0.4.0 in c:\\users\\goeeu\\anaconda3\\envs\\chatrag\\lib\\site-packages (from llama-index) (0.6.3)\n",
      "Requirement already satisfied: llama-index-llms-openai<0.4.0,>=0.3.0 in c:\\users\\goeeu\\anaconda3\\envs\\chatrag\\lib\\site-packages (from llama-index) (0.3.13)\n",
      "Requirement already satisfied: llama-index-multi-modal-llms-openai<0.5.0,>=0.4.0 in c:\\users\\goeeu\\anaconda3\\envs\\chatrag\\lib\\site-packages (from llama-index) (0.4.2)\n",
      "Requirement already satisfied: llama-index-program-openai<0.4.0,>=0.3.0 in c:\\users\\goeeu\\anaconda3\\envs\\chatrag\\lib\\site-packages (from llama-index) (0.3.1)\n",
      "Requirement already satisfied: llama-index-question-gen-openai<0.4.0,>=0.3.0 in c:\\users\\goeeu\\anaconda3\\envs\\chatrag\\lib\\site-packages (from llama-index) (0.3.0)\n",
      "Requirement already satisfied: llama-index-readers-file<0.5.0,>=0.4.0 in c:\\users\\goeeu\\anaconda3\\envs\\chatrag\\lib\\site-packages (from llama-index) (0.4.3)\n",
      "Requirement already satisfied: llama-index-readers-llama-parse>=0.4.0 in c:\\users\\goeeu\\anaconda3\\envs\\chatrag\\lib\\site-packages (from llama-index) (0.4.0)\n",
      "Requirement already satisfied: nltk>3.8.1 in c:\\users\\goeeu\\anaconda3\\envs\\chatrag\\lib\\site-packages (from llama-index) (3.9.1)\n",
      "Requirement already satisfied: openai>=1.14.0 in c:\\users\\goeeu\\anaconda3\\envs\\chatrag\\lib\\site-packages (from llama-index-agent-openai<0.5.0,>=0.4.0->llama-index) (1.59.8)\n",
      "Requirement already satisfied: PyYAML>=6.0.1 in c:\\users\\goeeu\\anaconda3\\envs\\chatrag\\lib\\site-packages (from llama-index-core<0.13.0,>=0.12.11->llama-index) (6.0.2)\n",
      "Requirement already satisfied: SQLAlchemy>=1.4.49 in c:\\users\\goeeu\\anaconda3\\envs\\chatrag\\lib\\site-packages (from SQLAlchemy[asyncio]>=1.4.49->llama-index-core<0.13.0,>=0.12.11->llama-index) (2.0.37)\n",
      "Requirement already satisfied: aiohttp<4.0.0,>=3.8.6 in c:\\users\\goeeu\\anaconda3\\envs\\chatrag\\lib\\site-packages (from llama-index-core<0.13.0,>=0.12.11->llama-index) (3.11.11)\n",
      "Requirement already satisfied: dataclasses-json in c:\\users\\goeeu\\anaconda3\\envs\\chatrag\\lib\\site-packages (from llama-index-core<0.13.0,>=0.12.11->llama-index) (0.6.7)\n",
      "Requirement already satisfied: deprecated>=1.2.9.3 in c:\\users\\goeeu\\anaconda3\\envs\\chatrag\\lib\\site-packages (from llama-index-core<0.13.0,>=0.12.11->llama-index) (1.2.15)\n",
      "Requirement already satisfied: dirtyjson<2.0.0,>=1.0.8 in c:\\users\\goeeu\\anaconda3\\envs\\chatrag\\lib\\site-packages (from llama-index-core<0.13.0,>=0.12.11->llama-index) (1.0.8)\n",
      "Requirement already satisfied: eval-type-backport<0.3.0,>=0.2.0 in c:\\users\\goeeu\\anaconda3\\envs\\chatrag\\lib\\site-packages (from llama-index-core<0.13.0,>=0.12.11->llama-index) (0.2.2)\n",
      "Requirement already satisfied: filetype<2.0.0,>=1.2.0 in c:\\users\\goeeu\\anaconda3\\envs\\chatrag\\lib\\site-packages (from llama-index-core<0.13.0,>=0.12.11->llama-index) (1.2.0)\n",
      "Requirement already satisfied: fsspec>=2023.5.0 in c:\\users\\goeeu\\anaconda3\\envs\\chatrag\\lib\\site-packages (from llama-index-core<0.13.0,>=0.12.11->llama-index) (2024.12.0)\n",
      "Requirement already satisfied: httpx in c:\\users\\goeeu\\anaconda3\\envs\\chatrag\\lib\\site-packages (from llama-index-core<0.13.0,>=0.12.11->llama-index) (0.27.0)\n",
      "Requirement already satisfied: nest-asyncio<2.0.0,>=1.5.8 in c:\\users\\goeeu\\anaconda3\\envs\\chatrag\\lib\\site-packages (from llama-index-core<0.13.0,>=0.12.11->llama-index) (1.6.0)\n",
      "Requirement already satisfied: networkx>=3.0 in c:\\users\\goeeu\\anaconda3\\envs\\chatrag\\lib\\site-packages (from llama-index-core<0.13.0,>=0.12.11->llama-index) (3.2.1)\n",
      "Requirement already satisfied: numpy in c:\\users\\goeeu\\anaconda3\\envs\\chatrag\\lib\\site-packages (from llama-index-core<0.13.0,>=0.12.11->llama-index) (1.26.4)\n",
      "Requirement already satisfied: pillow>=9.0.0 in c:\\users\\goeeu\\anaconda3\\envs\\chatrag\\lib\\site-packages (from llama-index-core<0.13.0,>=0.12.11->llama-index) (11.1.0)\n",
      "Requirement already satisfied: pydantic>=2.8.0 in c:\\users\\goeeu\\anaconda3\\envs\\chatrag\\lib\\site-packages (from llama-index-core<0.13.0,>=0.12.11->llama-index) (2.10.5)\n",
      "Requirement already satisfied: requests>=2.31.0 in c:\\users\\goeeu\\anaconda3\\envs\\chatrag\\lib\\site-packages (from llama-index-core<0.13.0,>=0.12.11->llama-index) (2.32.3)\n",
      "Requirement already satisfied: tenacity!=8.4.0,<10.0.0,>=8.2.0 in c:\\users\\goeeu\\anaconda3\\envs\\chatrag\\lib\\site-packages (from llama-index-core<0.13.0,>=0.12.11->llama-index) (9.0.0)\n",
      "Requirement already satisfied: tiktoken>=0.3.3 in c:\\users\\goeeu\\anaconda3\\envs\\chatrag\\lib\\site-packages (from llama-index-core<0.13.0,>=0.12.11->llama-index) (0.8.0)\n",
      "Requirement already satisfied: tqdm<5.0.0,>=4.66.1 in c:\\users\\goeeu\\anaconda3\\envs\\chatrag\\lib\\site-packages (from llama-index-core<0.13.0,>=0.12.11->llama-index) (4.67.1)\n",
      "Requirement already satisfied: typing-extensions>=4.5.0 in c:\\users\\goeeu\\anaconda3\\envs\\chatrag\\lib\\site-packages (from llama-index-core<0.13.0,>=0.12.11->llama-index) (4.12.2)\n",
      "Requirement already satisfied: typing-inspect>=0.8.0 in c:\\users\\goeeu\\anaconda3\\envs\\chatrag\\lib\\site-packages (from llama-index-core<0.13.0,>=0.12.11->llama-index) (0.9.0)\n",
      "Requirement already satisfied: wrapt in c:\\users\\goeeu\\anaconda3\\envs\\chatrag\\lib\\site-packages (from llama-index-core<0.13.0,>=0.12.11->llama-index) (1.17.2)\n",
      "Requirement already satisfied: llama-cloud>=0.1.5 in c:\\users\\goeeu\\anaconda3\\envs\\chatrag\\lib\\site-packages (from llama-index-indices-managed-llama-cloud>=0.4.0->llama-index) (0.1.9)\n",
      "Requirement already satisfied: beautifulsoup4<5.0.0,>=4.12.3 in c:\\users\\goeeu\\anaconda3\\envs\\chatrag\\lib\\site-packages (from llama-index-readers-file<0.5.0,>=0.4.0->llama-index) (4.12.3)\n",
      "Requirement already satisfied: pandas in c:\\users\\goeeu\\anaconda3\\envs\\chatrag\\lib\\site-packages (from llama-index-readers-file<0.5.0,>=0.4.0->llama-index) (2.2.3)\n",
      "Requirement already satisfied: pypdf<6.0.0,>=5.1.0 in c:\\users\\goeeu\\anaconda3\\envs\\chatrag\\lib\\site-packages (from llama-index-readers-file<0.5.0,>=0.4.0->llama-index) (5.1.0)\n",
      "Requirement already satisfied: striprtf<0.0.27,>=0.0.26 in c:\\users\\goeeu\\anaconda3\\envs\\chatrag\\lib\\site-packages (from llama-index-readers-file<0.5.0,>=0.4.0->llama-index) (0.0.26)\n",
      "Requirement already satisfied: llama-parse>=0.5.0 in c:\\users\\goeeu\\anaconda3\\envs\\chatrag\\lib\\site-packages (from llama-index-readers-llama-parse>=0.4.0->llama-index) (0.5.19)\n",
      "Requirement already satisfied: click in c:\\users\\goeeu\\anaconda3\\envs\\chatrag\\lib\\site-packages (from nltk>3.8.1->llama-index) (8.1.7)\n",
      "Requirement already satisfied: joblib in c:\\users\\goeeu\\anaconda3\\envs\\chatrag\\lib\\site-packages (from nltk>3.8.1->llama-index) (1.4.2)\n",
      "Requirement already satisfied: regex>=2021.8.3 in c:\\users\\goeeu\\anaconda3\\envs\\chatrag\\lib\\site-packages (from nltk>3.8.1->llama-index) (2024.11.6)\n",
      "Requirement already satisfied: aiohappyeyeballs>=2.3.0 in c:\\users\\goeeu\\anaconda3\\envs\\chatrag\\lib\\site-packages (from aiohttp<4.0.0,>=3.8.6->llama-index-core<0.13.0,>=0.12.11->llama-index) (2.4.4)\n",
      "Requirement already satisfied: aiosignal>=1.1.2 in c:\\users\\goeeu\\anaconda3\\envs\\chatrag\\lib\\site-packages (from aiohttp<4.0.0,>=3.8.6->llama-index-core<0.13.0,>=0.12.11->llama-index) (1.3.2)\n",
      "Requirement already satisfied: async-timeout<6.0,>=4.0 in c:\\users\\goeeu\\anaconda3\\envs\\chatrag\\lib\\site-packages (from aiohttp<4.0.0,>=3.8.6->llama-index-core<0.13.0,>=0.12.11->llama-index) (5.0.1)\n",
      "Requirement already satisfied: attrs>=17.3.0 in c:\\users\\goeeu\\anaconda3\\envs\\chatrag\\lib\\site-packages (from aiohttp<4.0.0,>=3.8.6->llama-index-core<0.13.0,>=0.12.11->llama-index) (24.3.0)\n",
      "Requirement already satisfied: frozenlist>=1.1.1 in c:\\users\\goeeu\\anaconda3\\envs\\chatrag\\lib\\site-packages (from aiohttp<4.0.0,>=3.8.6->llama-index-core<0.13.0,>=0.12.11->llama-index) (1.5.0)\n",
      "Requirement already satisfied: multidict<7.0,>=4.5 in c:\\users\\goeeu\\anaconda3\\envs\\chatrag\\lib\\site-packages (from aiohttp<4.0.0,>=3.8.6->llama-index-core<0.13.0,>=0.12.11->llama-index) (6.1.0)\n",
      "Requirement already satisfied: propcache>=0.2.0 in c:\\users\\goeeu\\anaconda3\\envs\\chatrag\\lib\\site-packages (from aiohttp<4.0.0,>=3.8.6->llama-index-core<0.13.0,>=0.12.11->llama-index) (0.2.1)\n",
      "Requirement already satisfied: yarl<2.0,>=1.17.0 in c:\\users\\goeeu\\anaconda3\\envs\\chatrag\\lib\\site-packages (from aiohttp<4.0.0,>=3.8.6->llama-index-core<0.13.0,>=0.12.11->llama-index) (1.18.3)\n",
      "Requirement already satisfied: soupsieve>1.2 in c:\\users\\goeeu\\anaconda3\\envs\\chatrag\\lib\\site-packages (from beautifulsoup4<5.0.0,>=4.12.3->llama-index-readers-file<0.5.0,>=0.4.0->llama-index) (2.5)\n",
      "Requirement already satisfied: certifi<2025.0.0,>=2024.7.4 in c:\\users\\goeeu\\anaconda3\\envs\\chatrag\\lib\\site-packages (from llama-cloud>=0.1.5->llama-index-indices-managed-llama-cloud>=0.4.0->llama-index) (2024.12.14)\n",
      "Requirement already satisfied: anyio in c:\\users\\goeeu\\anaconda3\\envs\\chatrag\\lib\\site-packages (from httpx->llama-index-core<0.13.0,>=0.12.11->llama-index) (4.6.2)\n",
      "Requirement already satisfied: httpcore==1.* in c:\\users\\goeeu\\anaconda3\\envs\\chatrag\\lib\\site-packages (from httpx->llama-index-core<0.13.0,>=0.12.11->llama-index) (1.0.2)\n",
      "Requirement already satisfied: idna in c:\\users\\goeeu\\anaconda3\\envs\\chatrag\\lib\\site-packages (from httpx->llama-index-core<0.13.0,>=0.12.11->llama-index) (3.7)\n",
      "Requirement already satisfied: sniffio in c:\\users\\goeeu\\anaconda3\\envs\\chatrag\\lib\\site-packages (from httpx->llama-index-core<0.13.0,>=0.12.11->llama-index) (1.3.0)\n",
      "Requirement already satisfied: h11<0.15,>=0.13 in c:\\users\\goeeu\\anaconda3\\envs\\chatrag\\lib\\site-packages (from httpcore==1.*->httpx->llama-index-core<0.13.0,>=0.12.11->llama-index) (0.14.0)\n",
      "Requirement already satisfied: colorama in c:\\users\\goeeu\\anaconda3\\envs\\chatrag\\lib\\site-packages (from click->nltk>3.8.1->llama-index) (0.4.6)\n",
      "Requirement already satisfied: distro<2,>=1.7.0 in c:\\users\\goeeu\\anaconda3\\envs\\chatrag\\lib\\site-packages (from openai>=1.14.0->llama-index-agent-openai<0.5.0,>=0.4.0->llama-index) (1.9.0)\n",
      "Requirement already satisfied: jiter<1,>=0.4.0 in c:\\users\\goeeu\\anaconda3\\envs\\chatrag\\lib\\site-packages (from openai>=1.14.0->llama-index-agent-openai<0.5.0,>=0.4.0->llama-index) (0.8.2)\n",
      "Requirement already satisfied: annotated-types>=0.6.0 in c:\\users\\goeeu\\anaconda3\\envs\\chatrag\\lib\\site-packages (from pydantic>=2.8.0->llama-index-core<0.13.0,>=0.12.11->llama-index) (0.6.0)\n",
      "Requirement already satisfied: pydantic-core==2.27.2 in c:\\users\\goeeu\\anaconda3\\envs\\chatrag\\lib\\site-packages (from pydantic>=2.8.0->llama-index-core<0.13.0,>=0.12.11->llama-index) (2.27.2)\n",
      "Requirement already satisfied: charset-normalizer<4,>=2 in c:\\users\\goeeu\\anaconda3\\envs\\chatrag\\lib\\site-packages (from requests>=2.31.0->llama-index-core<0.13.0,>=0.12.11->llama-index) (3.3.2)\n",
      "Requirement already satisfied: urllib3<3,>=1.21.1 in c:\\users\\goeeu\\anaconda3\\envs\\chatrag\\lib\\site-packages (from requests>=2.31.0->llama-index-core<0.13.0,>=0.12.11->llama-index) (2.3.0)\n",
      "Requirement already satisfied: greenlet!=0.4.17 in c:\\users\\goeeu\\anaconda3\\envs\\chatrag\\lib\\site-packages (from SQLAlchemy>=1.4.49->SQLAlchemy[asyncio]>=1.4.49->llama-index-core<0.13.0,>=0.12.11->llama-index) (3.1.1)\n",
      "Requirement already satisfied: mypy-extensions>=0.3.0 in c:\\users\\goeeu\\anaconda3\\envs\\chatrag\\lib\\site-packages (from typing-inspect>=0.8.0->llama-index-core<0.13.0,>=0.12.11->llama-index) (1.0.0)\n",
      "Requirement already satisfied: marshmallow<4.0.0,>=3.18.0 in c:\\users\\goeeu\\anaconda3\\envs\\chatrag\\lib\\site-packages (from dataclasses-json->llama-index-core<0.13.0,>=0.12.11->llama-index) (3.25.1)\n",
      "Requirement already satisfied: python-dateutil>=2.8.2 in c:\\users\\goeeu\\anaconda3\\envs\\chatrag\\lib\\site-packages (from pandas->llama-index-readers-file<0.5.0,>=0.4.0->llama-index) (2.9.0.post0)\n",
      "Requirement already satisfied: pytz>=2020.1 in c:\\users\\goeeu\\anaconda3\\envs\\chatrag\\lib\\site-packages (from pandas->llama-index-readers-file<0.5.0,>=0.4.0->llama-index) (2024.1)\n",
      "Requirement already satisfied: tzdata>=2022.7 in c:\\users\\goeeu\\anaconda3\\envs\\chatrag\\lib\\site-packages (from pandas->llama-index-readers-file<0.5.0,>=0.4.0->llama-index) (2023.3)\n",
      "Requirement already satisfied: exceptiongroup>=1.0.2 in c:\\users\\goeeu\\anaconda3\\envs\\chatrag\\lib\\site-packages (from anyio->httpx->llama-index-core<0.13.0,>=0.12.11->llama-index) (1.2.0)\n",
      "Requirement already satisfied: packaging>=17.0 in c:\\users\\goeeu\\anaconda3\\envs\\chatrag\\lib\\site-packages (from marshmallow<4.0.0,>=3.18.0->dataclasses-json->llama-index-core<0.13.0,>=0.12.11->llama-index) (24.2)\n",
      "Requirement already satisfied: six>=1.5 in c:\\users\\goeeu\\anaconda3\\envs\\chatrag\\lib\\site-packages (from python-dateutil>=2.8.2->pandas->llama-index-readers-file<0.5.0,>=0.4.0->llama-index) (1.16.0)\n",
      "Requirement already satisfied: llama-index-llms-mistralai in c:\\users\\goeeu\\anaconda3\\envs\\chatrag\\lib\\site-packages (0.3.1)\n",
      "Requirement already satisfied: llama-index-core<0.13.0,>=0.12.0 in c:\\users\\goeeu\\anaconda3\\envs\\chatrag\\lib\\site-packages (from llama-index-llms-mistralai) (0.12.11)\n",
      "Requirement already satisfied: mistralai>=1.0.0 in c:\\users\\goeeu\\anaconda3\\envs\\chatrag\\lib\\site-packages (from llama-index-llms-mistralai) (1.3.1)\n",
      "Requirement already satisfied: PyYAML>=6.0.1 in c:\\users\\goeeu\\anaconda3\\envs\\chatrag\\lib\\site-packages (from llama-index-core<0.13.0,>=0.12.0->llama-index-llms-mistralai) (6.0.2)\n",
      "Requirement already satisfied: SQLAlchemy>=1.4.49 in c:\\users\\goeeu\\anaconda3\\envs\\chatrag\\lib\\site-packages (from SQLAlchemy[asyncio]>=1.4.49->llama-index-core<0.13.0,>=0.12.0->llama-index-llms-mistralai) (2.0.37)\n",
      "Requirement already satisfied: aiohttp<4.0.0,>=3.8.6 in c:\\users\\goeeu\\anaconda3\\envs\\chatrag\\lib\\site-packages (from llama-index-core<0.13.0,>=0.12.0->llama-index-llms-mistralai) (3.11.11)\n",
      "Requirement already satisfied: dataclasses-json in c:\\users\\goeeu\\anaconda3\\envs\\chatrag\\lib\\site-packages (from llama-index-core<0.13.0,>=0.12.0->llama-index-llms-mistralai) (0.6.7)\n",
      "Requirement already satisfied: deprecated>=1.2.9.3 in c:\\users\\goeeu\\anaconda3\\envs\\chatrag\\lib\\site-packages (from llama-index-core<0.13.0,>=0.12.0->llama-index-llms-mistralai) (1.2.15)\n",
      "Requirement already satisfied: dirtyjson<2.0.0,>=1.0.8 in c:\\users\\goeeu\\anaconda3\\envs\\chatrag\\lib\\site-packages (from llama-index-core<0.13.0,>=0.12.0->llama-index-llms-mistralai) (1.0.8)\n",
      "Requirement already satisfied: eval-type-backport<0.3.0,>=0.2.0 in c:\\users\\goeeu\\anaconda3\\envs\\chatrag\\lib\\site-packages (from llama-index-core<0.13.0,>=0.12.0->llama-index-llms-mistralai) (0.2.2)\n",
      "Requirement already satisfied: filetype<2.0.0,>=1.2.0 in c:\\users\\goeeu\\anaconda3\\envs\\chatrag\\lib\\site-packages (from llama-index-core<0.13.0,>=0.12.0->llama-index-llms-mistralai) (1.2.0)\n",
      "Requirement already satisfied: fsspec>=2023.5.0 in c:\\users\\goeeu\\anaconda3\\envs\\chatrag\\lib\\site-packages (from llama-index-core<0.13.0,>=0.12.0->llama-index-llms-mistralai) (2024.12.0)\n",
      "Requirement already satisfied: httpx in c:\\users\\goeeu\\anaconda3\\envs\\chatrag\\lib\\site-packages (from llama-index-core<0.13.0,>=0.12.0->llama-index-llms-mistralai) (0.27.0)\n",
      "Requirement already satisfied: nest-asyncio<2.0.0,>=1.5.8 in c:\\users\\goeeu\\anaconda3\\envs\\chatrag\\lib\\site-packages (from llama-index-core<0.13.0,>=0.12.0->llama-index-llms-mistralai) (1.6.0)\n",
      "Requirement already satisfied: networkx>=3.0 in c:\\users\\goeeu\\anaconda3\\envs\\chatrag\\lib\\site-packages (from llama-index-core<0.13.0,>=0.12.0->llama-index-llms-mistralai) (3.2.1)\n",
      "Requirement already satisfied: nltk>3.8.1 in c:\\users\\goeeu\\anaconda3\\envs\\chatrag\\lib\\site-packages (from llama-index-core<0.13.0,>=0.12.0->llama-index-llms-mistralai) (3.9.1)\n",
      "Requirement already satisfied: numpy in c:\\users\\goeeu\\anaconda3\\envs\\chatrag\\lib\\site-packages (from llama-index-core<0.13.0,>=0.12.0->llama-index-llms-mistralai) (1.26.4)\n",
      "Requirement already satisfied: pillow>=9.0.0 in c:\\users\\goeeu\\anaconda3\\envs\\chatrag\\lib\\site-packages (from llama-index-core<0.13.0,>=0.12.0->llama-index-llms-mistralai) (11.1.0)\n",
      "Requirement already satisfied: pydantic>=2.8.0 in c:\\users\\goeeu\\anaconda3\\envs\\chatrag\\lib\\site-packages (from llama-index-core<0.13.0,>=0.12.0->llama-index-llms-mistralai) (2.10.5)\n",
      "Requirement already satisfied: requests>=2.31.0 in c:\\users\\goeeu\\anaconda3\\envs\\chatrag\\lib\\site-packages (from llama-index-core<0.13.0,>=0.12.0->llama-index-llms-mistralai) (2.32.3)\n",
      "Requirement already satisfied: tenacity!=8.4.0,<10.0.0,>=8.2.0 in c:\\users\\goeeu\\anaconda3\\envs\\chatrag\\lib\\site-packages (from llama-index-core<0.13.0,>=0.12.0->llama-index-llms-mistralai) (9.0.0)\n",
      "Requirement already satisfied: tiktoken>=0.3.3 in c:\\users\\goeeu\\anaconda3\\envs\\chatrag\\lib\\site-packages (from llama-index-core<0.13.0,>=0.12.0->llama-index-llms-mistralai) (0.8.0)\n",
      "Requirement already satisfied: tqdm<5.0.0,>=4.66.1 in c:\\users\\goeeu\\anaconda3\\envs\\chatrag\\lib\\site-packages (from llama-index-core<0.13.0,>=0.12.0->llama-index-llms-mistralai) (4.67.1)\n",
      "Requirement already satisfied: typing-extensions>=4.5.0 in c:\\users\\goeeu\\anaconda3\\envs\\chatrag\\lib\\site-packages (from llama-index-core<0.13.0,>=0.12.0->llama-index-llms-mistralai) (4.12.2)\n",
      "Requirement already satisfied: typing-inspect>=0.8.0 in c:\\users\\goeeu\\anaconda3\\envs\\chatrag\\lib\\site-packages (from llama-index-core<0.13.0,>=0.12.0->llama-index-llms-mistralai) (0.9.0)\n",
      "Requirement already satisfied: wrapt in c:\\users\\goeeu\\anaconda3\\envs\\chatrag\\lib\\site-packages (from llama-index-core<0.13.0,>=0.12.0->llama-index-llms-mistralai) (1.17.2)\n",
      "Requirement already satisfied: jsonpath-python>=1.0.6 in c:\\users\\goeeu\\anaconda3\\envs\\chatrag\\lib\\site-packages (from mistralai>=1.0.0->llama-index-llms-mistralai) (1.0.6)\n",
      "Requirement already satisfied: python-dateutil>=2.8.2 in c:\\users\\goeeu\\anaconda3\\envs\\chatrag\\lib\\site-packages (from mistralai>=1.0.0->llama-index-llms-mistralai) (2.9.0.post0)\n",
      "Requirement already satisfied: aiohappyeyeballs>=2.3.0 in c:\\users\\goeeu\\anaconda3\\envs\\chatrag\\lib\\site-packages (from aiohttp<4.0.0,>=3.8.6->llama-index-core<0.13.0,>=0.12.0->llama-index-llms-mistralai) (2.4.4)\n",
      "Requirement already satisfied: aiosignal>=1.1.2 in c:\\users\\goeeu\\anaconda3\\envs\\chatrag\\lib\\site-packages (from aiohttp<4.0.0,>=3.8.6->llama-index-core<0.13.0,>=0.12.0->llama-index-llms-mistralai) (1.3.2)\n",
      "Requirement already satisfied: async-timeout<6.0,>=4.0 in c:\\users\\goeeu\\anaconda3\\envs\\chatrag\\lib\\site-packages (from aiohttp<4.0.0,>=3.8.6->llama-index-core<0.13.0,>=0.12.0->llama-index-llms-mistralai) (5.0.1)\n",
      "Requirement already satisfied: attrs>=17.3.0 in c:\\users\\goeeu\\anaconda3\\envs\\chatrag\\lib\\site-packages (from aiohttp<4.0.0,>=3.8.6->llama-index-core<0.13.0,>=0.12.0->llama-index-llms-mistralai) (24.3.0)\n",
      "Requirement already satisfied: frozenlist>=1.1.1 in c:\\users\\goeeu\\anaconda3\\envs\\chatrag\\lib\\site-packages (from aiohttp<4.0.0,>=3.8.6->llama-index-core<0.13.0,>=0.12.0->llama-index-llms-mistralai) (1.5.0)\n",
      "Requirement already satisfied: multidict<7.0,>=4.5 in c:\\users\\goeeu\\anaconda3\\envs\\chatrag\\lib\\site-packages (from aiohttp<4.0.0,>=3.8.6->llama-index-core<0.13.0,>=0.12.0->llama-index-llms-mistralai) (6.1.0)\n",
      "Requirement already satisfied: propcache>=0.2.0 in c:\\users\\goeeu\\anaconda3\\envs\\chatrag\\lib\\site-packages (from aiohttp<4.0.0,>=3.8.6->llama-index-core<0.13.0,>=0.12.0->llama-index-llms-mistralai) (0.2.1)\n",
      "Requirement already satisfied: yarl<2.0,>=1.17.0 in c:\\users\\goeeu\\anaconda3\\envs\\chatrag\\lib\\site-packages (from aiohttp<4.0.0,>=3.8.6->llama-index-core<0.13.0,>=0.12.0->llama-index-llms-mistralai) (1.18.3)\n",
      "Requirement already satisfied: anyio in c:\\users\\goeeu\\anaconda3\\envs\\chatrag\\lib\\site-packages (from httpx->llama-index-core<0.13.0,>=0.12.0->llama-index-llms-mistralai) (4.6.2)\n",
      "Requirement already satisfied: certifi in c:\\users\\goeeu\\anaconda3\\envs\\chatrag\\lib\\site-packages (from httpx->llama-index-core<0.13.0,>=0.12.0->llama-index-llms-mistralai) (2024.12.14)\n",
      "Requirement already satisfied: httpcore==1.* in c:\\users\\goeeu\\anaconda3\\envs\\chatrag\\lib\\site-packages (from httpx->llama-index-core<0.13.0,>=0.12.0->llama-index-llms-mistralai) (1.0.2)\n",
      "Requirement already satisfied: idna in c:\\users\\goeeu\\anaconda3\\envs\\chatrag\\lib\\site-packages (from httpx->llama-index-core<0.13.0,>=0.12.0->llama-index-llms-mistralai) (3.7)\n",
      "Requirement already satisfied: sniffio in c:\\users\\goeeu\\anaconda3\\envs\\chatrag\\lib\\site-packages (from httpx->llama-index-core<0.13.0,>=0.12.0->llama-index-llms-mistralai) (1.3.0)\n",
      "Requirement already satisfied: h11<0.15,>=0.13 in c:\\users\\goeeu\\anaconda3\\envs\\chatrag\\lib\\site-packages (from httpcore==1.*->httpx->llama-index-core<0.13.0,>=0.12.0->llama-index-llms-mistralai) (0.14.0)\n",
      "Requirement already satisfied: click in c:\\users\\goeeu\\anaconda3\\envs\\chatrag\\lib\\site-packages (from nltk>3.8.1->llama-index-core<0.13.0,>=0.12.0->llama-index-llms-mistralai) (8.1.7)\n",
      "Requirement already satisfied: joblib in c:\\users\\goeeu\\anaconda3\\envs\\chatrag\\lib\\site-packages (from nltk>3.8.1->llama-index-core<0.13.0,>=0.12.0->llama-index-llms-mistralai) (1.4.2)\n",
      "Requirement already satisfied: regex>=2021.8.3 in c:\\users\\goeeu\\anaconda3\\envs\\chatrag\\lib\\site-packages (from nltk>3.8.1->llama-index-core<0.13.0,>=0.12.0->llama-index-llms-mistralai) (2024.11.6)\n",
      "Requirement already satisfied: annotated-types>=0.6.0 in c:\\users\\goeeu\\anaconda3\\envs\\chatrag\\lib\\site-packages (from pydantic>=2.8.0->llama-index-core<0.13.0,>=0.12.0->llama-index-llms-mistralai) (0.6.0)\n",
      "Requirement already satisfied: pydantic-core==2.27.2 in c:\\users\\goeeu\\anaconda3\\envs\\chatrag\\lib\\site-packages (from pydantic>=2.8.0->llama-index-core<0.13.0,>=0.12.0->llama-index-llms-mistralai) (2.27.2)\n",
      "Requirement already satisfied: six>=1.5 in c:\\users\\goeeu\\anaconda3\\envs\\chatrag\\lib\\site-packages (from python-dateutil>=2.8.2->mistralai>=1.0.0->llama-index-llms-mistralai) (1.16.0)\n",
      "Requirement already satisfied: charset-normalizer<4,>=2 in c:\\users\\goeeu\\anaconda3\\envs\\chatrag\\lib\\site-packages (from requests>=2.31.0->llama-index-core<0.13.0,>=0.12.0->llama-index-llms-mistralai) (3.3.2)\n",
      "Requirement already satisfied: urllib3<3,>=1.21.1 in c:\\users\\goeeu\\anaconda3\\envs\\chatrag\\lib\\site-packages (from requests>=2.31.0->llama-index-core<0.13.0,>=0.12.0->llama-index-llms-mistralai) (2.3.0)\n",
      "Requirement already satisfied: greenlet!=0.4.17 in c:\\users\\goeeu\\anaconda3\\envs\\chatrag\\lib\\site-packages (from SQLAlchemy>=1.4.49->SQLAlchemy[asyncio]>=1.4.49->llama-index-core<0.13.0,>=0.12.0->llama-index-llms-mistralai) (3.1.1)\n",
      "Requirement already satisfied: colorama in c:\\users\\goeeu\\anaconda3\\envs\\chatrag\\lib\\site-packages (from tqdm<5.0.0,>=4.66.1->llama-index-core<0.13.0,>=0.12.0->llama-index-llms-mistralai) (0.4.6)\n",
      "Requirement already satisfied: mypy-extensions>=0.3.0 in c:\\users\\goeeu\\anaconda3\\envs\\chatrag\\lib\\site-packages (from typing-inspect>=0.8.0->llama-index-core<0.13.0,>=0.12.0->llama-index-llms-mistralai) (1.0.0)\n",
      "Requirement already satisfied: marshmallow<4.0.0,>=3.18.0 in c:\\users\\goeeu\\anaconda3\\envs\\chatrag\\lib\\site-packages (from dataclasses-json->llama-index-core<0.13.0,>=0.12.0->llama-index-llms-mistralai) (3.25.1)\n",
      "Requirement already satisfied: packaging>=17.0 in c:\\users\\goeeu\\anaconda3\\envs\\chatrag\\lib\\site-packages (from marshmallow<4.0.0,>=3.18.0->dataclasses-json->llama-index-core<0.13.0,>=0.12.0->llama-index-llms-mistralai) (24.2)\n",
      "Requirement already satisfied: exceptiongroup>=1.0.2 in c:\\users\\goeeu\\anaconda3\\envs\\chatrag\\lib\\site-packages (from anyio->httpx->llama-index-core<0.13.0,>=0.12.0->llama-index-llms-mistralai) (1.2.0)\n",
      "Requirement already satisfied: llama-index-embeddings-mistralai in c:\\users\\goeeu\\anaconda3\\envs\\chatrag\\lib\\site-packages (0.3.0)\n",
      "Requirement already satisfied: llama-index-core<0.13.0,>=0.12.0 in c:\\users\\goeeu\\anaconda3\\envs\\chatrag\\lib\\site-packages (from llama-index-embeddings-mistralai) (0.12.11)\n",
      "Requirement already satisfied: mistralai>=1.0.0 in c:\\users\\goeeu\\anaconda3\\envs\\chatrag\\lib\\site-packages (from llama-index-embeddings-mistralai) (1.3.1)\n",
      "Requirement already satisfied: PyYAML>=6.0.1 in c:\\users\\goeeu\\anaconda3\\envs\\chatrag\\lib\\site-packages (from llama-index-core<0.13.0,>=0.12.0->llama-index-embeddings-mistralai) (6.0.2)\n",
      "Requirement already satisfied: SQLAlchemy>=1.4.49 in c:\\users\\goeeu\\anaconda3\\envs\\chatrag\\lib\\site-packages (from SQLAlchemy[asyncio]>=1.4.49->llama-index-core<0.13.0,>=0.12.0->llama-index-embeddings-mistralai) (2.0.37)\n",
      "Requirement already satisfied: aiohttp<4.0.0,>=3.8.6 in c:\\users\\goeeu\\anaconda3\\envs\\chatrag\\lib\\site-packages (from llama-index-core<0.13.0,>=0.12.0->llama-index-embeddings-mistralai) (3.11.11)\n",
      "Requirement already satisfied: dataclasses-json in c:\\users\\goeeu\\anaconda3\\envs\\chatrag\\lib\\site-packages (from llama-index-core<0.13.0,>=0.12.0->llama-index-embeddings-mistralai) (0.6.7)\n",
      "Requirement already satisfied: deprecated>=1.2.9.3 in c:\\users\\goeeu\\anaconda3\\envs\\chatrag\\lib\\site-packages (from llama-index-core<0.13.0,>=0.12.0->llama-index-embeddings-mistralai) (1.2.15)\n",
      "Requirement already satisfied: dirtyjson<2.0.0,>=1.0.8 in c:\\users\\goeeu\\anaconda3\\envs\\chatrag\\lib\\site-packages (from llama-index-core<0.13.0,>=0.12.0->llama-index-embeddings-mistralai) (1.0.8)\n",
      "Requirement already satisfied: eval-type-backport<0.3.0,>=0.2.0 in c:\\users\\goeeu\\anaconda3\\envs\\chatrag\\lib\\site-packages (from llama-index-core<0.13.0,>=0.12.0->llama-index-embeddings-mistralai) (0.2.2)\n",
      "Requirement already satisfied: filetype<2.0.0,>=1.2.0 in c:\\users\\goeeu\\anaconda3\\envs\\chatrag\\lib\\site-packages (from llama-index-core<0.13.0,>=0.12.0->llama-index-embeddings-mistralai) (1.2.0)\n",
      "Requirement already satisfied: fsspec>=2023.5.0 in c:\\users\\goeeu\\anaconda3\\envs\\chatrag\\lib\\site-packages (from llama-index-core<0.13.0,>=0.12.0->llama-index-embeddings-mistralai) (2024.12.0)\n",
      "Requirement already satisfied: httpx in c:\\users\\goeeu\\anaconda3\\envs\\chatrag\\lib\\site-packages (from llama-index-core<0.13.0,>=0.12.0->llama-index-embeddings-mistralai) (0.27.0)\n",
      "Requirement already satisfied: nest-asyncio<2.0.0,>=1.5.8 in c:\\users\\goeeu\\anaconda3\\envs\\chatrag\\lib\\site-packages (from llama-index-core<0.13.0,>=0.12.0->llama-index-embeddings-mistralai) (1.6.0)\n",
      "Requirement already satisfied: networkx>=3.0 in c:\\users\\goeeu\\anaconda3\\envs\\chatrag\\lib\\site-packages (from llama-index-core<0.13.0,>=0.12.0->llama-index-embeddings-mistralai) (3.2.1)\n",
      "Requirement already satisfied: nltk>3.8.1 in c:\\users\\goeeu\\anaconda3\\envs\\chatrag\\lib\\site-packages (from llama-index-core<0.13.0,>=0.12.0->llama-index-embeddings-mistralai) (3.9.1)\n",
      "Requirement already satisfied: numpy in c:\\users\\goeeu\\anaconda3\\envs\\chatrag\\lib\\site-packages (from llama-index-core<0.13.0,>=0.12.0->llama-index-embeddings-mistralai) (1.26.4)\n",
      "Requirement already satisfied: pillow>=9.0.0 in c:\\users\\goeeu\\anaconda3\\envs\\chatrag\\lib\\site-packages (from llama-index-core<0.13.0,>=0.12.0->llama-index-embeddings-mistralai) (11.1.0)\n",
      "Requirement already satisfied: pydantic>=2.8.0 in c:\\users\\goeeu\\anaconda3\\envs\\chatrag\\lib\\site-packages (from llama-index-core<0.13.0,>=0.12.0->llama-index-embeddings-mistralai) (2.10.5)\n",
      "Requirement already satisfied: requests>=2.31.0 in c:\\users\\goeeu\\anaconda3\\envs\\chatrag\\lib\\site-packages (from llama-index-core<0.13.0,>=0.12.0->llama-index-embeddings-mistralai) (2.32.3)\n",
      "Requirement already satisfied: tenacity!=8.4.0,<10.0.0,>=8.2.0 in c:\\users\\goeeu\\anaconda3\\envs\\chatrag\\lib\\site-packages (from llama-index-core<0.13.0,>=0.12.0->llama-index-embeddings-mistralai) (9.0.0)\n",
      "Requirement already satisfied: tiktoken>=0.3.3 in c:\\users\\goeeu\\anaconda3\\envs\\chatrag\\lib\\site-packages (from llama-index-core<0.13.0,>=0.12.0->llama-index-embeddings-mistralai) (0.8.0)\n",
      "Requirement already satisfied: tqdm<5.0.0,>=4.66.1 in c:\\users\\goeeu\\anaconda3\\envs\\chatrag\\lib\\site-packages (from llama-index-core<0.13.0,>=0.12.0->llama-index-embeddings-mistralai) (4.67.1)\n",
      "Requirement already satisfied: typing-extensions>=4.5.0 in c:\\users\\goeeu\\anaconda3\\envs\\chatrag\\lib\\site-packages (from llama-index-core<0.13.0,>=0.12.0->llama-index-embeddings-mistralai) (4.12.2)\n",
      "Requirement already satisfied: typing-inspect>=0.8.0 in c:\\users\\goeeu\\anaconda3\\envs\\chatrag\\lib\\site-packages (from llama-index-core<0.13.0,>=0.12.0->llama-index-embeddings-mistralai) (0.9.0)\n",
      "Requirement already satisfied: wrapt in c:\\users\\goeeu\\anaconda3\\envs\\chatrag\\lib\\site-packages (from llama-index-core<0.13.0,>=0.12.0->llama-index-embeddings-mistralai) (1.17.2)\n",
      "Requirement already satisfied: jsonpath-python>=1.0.6 in c:\\users\\goeeu\\anaconda3\\envs\\chatrag\\lib\\site-packages (from mistralai>=1.0.0->llama-index-embeddings-mistralai) (1.0.6)\n",
      "Requirement already satisfied: python-dateutil>=2.8.2 in c:\\users\\goeeu\\anaconda3\\envs\\chatrag\\lib\\site-packages (from mistralai>=1.0.0->llama-index-embeddings-mistralai) (2.9.0.post0)\n",
      "Requirement already satisfied: aiohappyeyeballs>=2.3.0 in c:\\users\\goeeu\\anaconda3\\envs\\chatrag\\lib\\site-packages (from aiohttp<4.0.0,>=3.8.6->llama-index-core<0.13.0,>=0.12.0->llama-index-embeddings-mistralai) (2.4.4)\n",
      "Requirement already satisfied: aiosignal>=1.1.2 in c:\\users\\goeeu\\anaconda3\\envs\\chatrag\\lib\\site-packages (from aiohttp<4.0.0,>=3.8.6->llama-index-core<0.13.0,>=0.12.0->llama-index-embeddings-mistralai) (1.3.2)\n",
      "Requirement already satisfied: async-timeout<6.0,>=4.0 in c:\\users\\goeeu\\anaconda3\\envs\\chatrag\\lib\\site-packages (from aiohttp<4.0.0,>=3.8.6->llama-index-core<0.13.0,>=0.12.0->llama-index-embeddings-mistralai) (5.0.1)\n",
      "Requirement already satisfied: attrs>=17.3.0 in c:\\users\\goeeu\\anaconda3\\envs\\chatrag\\lib\\site-packages (from aiohttp<4.0.0,>=3.8.6->llama-index-core<0.13.0,>=0.12.0->llama-index-embeddings-mistralai) (24.3.0)\n",
      "Requirement already satisfied: frozenlist>=1.1.1 in c:\\users\\goeeu\\anaconda3\\envs\\chatrag\\lib\\site-packages (from aiohttp<4.0.0,>=3.8.6->llama-index-core<0.13.0,>=0.12.0->llama-index-embeddings-mistralai) (1.5.0)\n",
      "Requirement already satisfied: multidict<7.0,>=4.5 in c:\\users\\goeeu\\anaconda3\\envs\\chatrag\\lib\\site-packages (from aiohttp<4.0.0,>=3.8.6->llama-index-core<0.13.0,>=0.12.0->llama-index-embeddings-mistralai) (6.1.0)\n",
      "Requirement already satisfied: propcache>=0.2.0 in c:\\users\\goeeu\\anaconda3\\envs\\chatrag\\lib\\site-packages (from aiohttp<4.0.0,>=3.8.6->llama-index-core<0.13.0,>=0.12.0->llama-index-embeddings-mistralai) (0.2.1)\n",
      "Requirement already satisfied: yarl<2.0,>=1.17.0 in c:\\users\\goeeu\\anaconda3\\envs\\chatrag\\lib\\site-packages (from aiohttp<4.0.0,>=3.8.6->llama-index-core<0.13.0,>=0.12.0->llama-index-embeddings-mistralai) (1.18.3)\n",
      "Requirement already satisfied: anyio in c:\\users\\goeeu\\anaconda3\\envs\\chatrag\\lib\\site-packages (from httpx->llama-index-core<0.13.0,>=0.12.0->llama-index-embeddings-mistralai) (4.6.2)\n",
      "Requirement already satisfied: certifi in c:\\users\\goeeu\\anaconda3\\envs\\chatrag\\lib\\site-packages (from httpx->llama-index-core<0.13.0,>=0.12.0->llama-index-embeddings-mistralai) (2024.12.14)\n",
      "Requirement already satisfied: httpcore==1.* in c:\\users\\goeeu\\anaconda3\\envs\\chatrag\\lib\\site-packages (from httpx->llama-index-core<0.13.0,>=0.12.0->llama-index-embeddings-mistralai) (1.0.2)\n",
      "Requirement already satisfied: idna in c:\\users\\goeeu\\anaconda3\\envs\\chatrag\\lib\\site-packages (from httpx->llama-index-core<0.13.0,>=0.12.0->llama-index-embeddings-mistralai) (3.7)\n",
      "Requirement already satisfied: sniffio in c:\\users\\goeeu\\anaconda3\\envs\\chatrag\\lib\\site-packages (from httpx->llama-index-core<0.13.0,>=0.12.0->llama-index-embeddings-mistralai) (1.3.0)\n",
      "Requirement already satisfied: h11<0.15,>=0.13 in c:\\users\\goeeu\\anaconda3\\envs\\chatrag\\lib\\site-packages (from httpcore==1.*->httpx->llama-index-core<0.13.0,>=0.12.0->llama-index-embeddings-mistralai) (0.14.0)\n",
      "Requirement already satisfied: click in c:\\users\\goeeu\\anaconda3\\envs\\chatrag\\lib\\site-packages (from nltk>3.8.1->llama-index-core<0.13.0,>=0.12.0->llama-index-embeddings-mistralai) (8.1.7)\n",
      "Requirement already satisfied: joblib in c:\\users\\goeeu\\anaconda3\\envs\\chatrag\\lib\\site-packages (from nltk>3.8.1->llama-index-core<0.13.0,>=0.12.0->llama-index-embeddings-mistralai) (1.4.2)\n",
      "Requirement already satisfied: regex>=2021.8.3 in c:\\users\\goeeu\\anaconda3\\envs\\chatrag\\lib\\site-packages (from nltk>3.8.1->llama-index-core<0.13.0,>=0.12.0->llama-index-embeddings-mistralai) (2024.11.6)\n",
      "Requirement already satisfied: annotated-types>=0.6.0 in c:\\users\\goeeu\\anaconda3\\envs\\chatrag\\lib\\site-packages (from pydantic>=2.8.0->llama-index-core<0.13.0,>=0.12.0->llama-index-embeddings-mistralai) (0.6.0)\n",
      "Requirement already satisfied: pydantic-core==2.27.2 in c:\\users\\goeeu\\anaconda3\\envs\\chatrag\\lib\\site-packages (from pydantic>=2.8.0->llama-index-core<0.13.0,>=0.12.0->llama-index-embeddings-mistralai) (2.27.2)\n",
      "Requirement already satisfied: six>=1.5 in c:\\users\\goeeu\\anaconda3\\envs\\chatrag\\lib\\site-packages (from python-dateutil>=2.8.2->mistralai>=1.0.0->llama-index-embeddings-mistralai) (1.16.0)\n",
      "Requirement already satisfied: charset-normalizer<4,>=2 in c:\\users\\goeeu\\anaconda3\\envs\\chatrag\\lib\\site-packages (from requests>=2.31.0->llama-index-core<0.13.0,>=0.12.0->llama-index-embeddings-mistralai) (3.3.2)\n",
      "Requirement already satisfied: urllib3<3,>=1.21.1 in c:\\users\\goeeu\\anaconda3\\envs\\chatrag\\lib\\site-packages (from requests>=2.31.0->llama-index-core<0.13.0,>=0.12.0->llama-index-embeddings-mistralai) (2.3.0)\n",
      "Requirement already satisfied: greenlet!=0.4.17 in c:\\users\\goeeu\\anaconda3\\envs\\chatrag\\lib\\site-packages (from SQLAlchemy>=1.4.49->SQLAlchemy[asyncio]>=1.4.49->llama-index-core<0.13.0,>=0.12.0->llama-index-embeddings-mistralai) (3.1.1)\n",
      "Requirement already satisfied: colorama in c:\\users\\goeeu\\anaconda3\\envs\\chatrag\\lib\\site-packages (from tqdm<5.0.0,>=4.66.1->llama-index-core<0.13.0,>=0.12.0->llama-index-embeddings-mistralai) (0.4.6)\n",
      "Requirement already satisfied: mypy-extensions>=0.3.0 in c:\\users\\goeeu\\anaconda3\\envs\\chatrag\\lib\\site-packages (from typing-inspect>=0.8.0->llama-index-core<0.13.0,>=0.12.0->llama-index-embeddings-mistralai) (1.0.0)\n",
      "Requirement already satisfied: marshmallow<4.0.0,>=3.18.0 in c:\\users\\goeeu\\anaconda3\\envs\\chatrag\\lib\\site-packages (from dataclasses-json->llama-index-core<0.13.0,>=0.12.0->llama-index-embeddings-mistralai) (3.25.1)\n",
      "Requirement already satisfied: packaging>=17.0 in c:\\users\\goeeu\\anaconda3\\envs\\chatrag\\lib\\site-packages (from marshmallow<4.0.0,>=3.18.0->dataclasses-json->llama-index-core<0.13.0,>=0.12.0->llama-index-embeddings-mistralai) (24.2)\n",
      "Requirement already satisfied: exceptiongroup>=1.0.2 in c:\\users\\goeeu\\anaconda3\\envs\\chatrag\\lib\\site-packages (from anyio->httpx->llama-index-core<0.13.0,>=0.12.0->llama-index-embeddings-mistralai) (1.2.0)\n"
     ]
    }
   ],
   "execution_count": 57
  },
  {
   "metadata": {
    "ExecuteTime": {
     "end_time": "2025-01-20T10:18:42.429047Z",
     "start_time": "2025-01-20T10:18:42.416200Z"
    }
   },
   "cell_type": "code",
   "source": [
    "from llama_index.core import SimpleDirectoryReader\n",
    "from llama_index.core import SimpleKeywordTableIndex, VectorStoreIndex\n",
    "from llama_index.core import Settings\n",
    "from llama_index.core import StorageContext\n",
    "from llama_index.core.node_parser import SentenceSplitter\n",
    "\n",
    "from llama_index.embeddings.mistralai import MistralAIEmbedding\n",
    "from llama_index.core.retrievers import VectorIndexRetriever\n",
    "\n",
    "from llama_index.core.llms import ChatMessage\n",
    "from llama_index.llms.mistralai import MistralAI"
   ],
   "id": "cc666b68eb8efb30",
   "outputs": [],
   "execution_count": 69
  },
  {
   "metadata": {
    "ExecuteTime": {
     "end_time": "2025-01-20T09:11:50.631684Z",
     "start_time": "2025-01-20T09:11:49.827390Z"
    }
   },
   "cell_type": "code",
   "source": [
    "# load documents\n",
    "documents = SimpleDirectoryReader(\"./docs\").load_data()"
   ],
   "id": "6835887bf1750a02",
   "outputs": [],
   "execution_count": 30
  },
  {
   "metadata": {
    "ExecuteTime": {
     "end_time": "2025-01-20T09:18:11.946967Z",
     "start_time": "2025-01-20T09:18:11.887040Z"
    }
   },
   "cell_type": "code",
   "source": "nodes = SentenceSplitter().get_nodes_from_documents(documents)",
   "id": "655e0b3ff0f33d85",
   "outputs": [],
   "execution_count": 41
  },
  {
   "metadata": {
    "ExecuteTime": {
     "end_time": "2025-01-20T09:42:35.890265Z",
     "start_time": "2025-01-20T09:42:34.868173Z"
    }
   },
   "cell_type": "code",
   "source": [
    "# get API key and create embeddings\n",
    "api_key = \"wNxa....\"\n",
    "model_name = \"mistral-embed\"\n",
    "embed_model = MistralAIEmbedding(model_name=model_name, api_key=api_key)"
   ],
   "id": "20ec25a5a59db1ab",
   "outputs": [],
   "execution_count": 59
  },
  {
   "metadata": {
    "ExecuteTime": {
     "end_time": "2025-01-20T09:47:51.583044Z",
     "start_time": "2025-01-20T09:47:43.125167Z"
    }
   },
   "cell_type": "code",
   "source": "index = VectorStoreIndex.from_documents(documents, embed_model=embed_model)",
   "id": "5972fea08f8f87fe",
   "outputs": [],
   "execution_count": 62
  },
  {
   "metadata": {
    "ExecuteTime": {
     "end_time": "2025-01-20T09:54:24.576517Z",
     "start_time": "2025-01-20T09:54:24.561573Z"
    }
   },
   "cell_type": "code",
   "source": "retriever  = VectorIndexRetriever(index, similarity_top_k=3)",
   "id": "f64ca46047e36076",
   "outputs": [],
   "execution_count": 66
  },
  {
   "metadata": {
    "ExecuteTime": {
     "end_time": "2025-01-20T10:20:06.986529Z",
     "start_time": "2025-01-20T10:20:06.299387Z"
    }
   },
   "cell_type": "code",
   "source": "docs = retriever.retrieve('RAG 모델의 개요')",
   "id": "c96d97a62604df29",
   "outputs": [],
   "execution_count": 73
  },
  {
   "metadata": {
    "ExecuteTime": {
     "end_time": "2025-01-20T10:26:45.298003Z",
     "start_time": "2025-01-20T10:26:45.292968Z"
    }
   },
   "cell_type": "code",
   "source": [
    "result=[]\n",
    "for i in docs:\n",
    "    result.append(i.text)\n",
    "    print(i.text)\n",
    "\n",
    "result_str = \"\\n\".join(str(item) for item in result)"
   ],
   "id": "53a839254dfad98d",
   "outputs": [
    {
     "name": "stdout",
     "output_type": "stream",
     "text": [
      "시스템 구현에서는 LangGraph의 개요 및 \n",
      "적용 방법, 시스템 구현 과정 및 결과를 기술하고, 테스\n",
      "트에서는 구현된 코드의 개선된 결과값을 제시하고 있\n",
      "다. 마지막으로 결론에서는 연구 결과의 요약, 연구의 한\n",
      "계 및 향후 연구 방향에 대해 다루고 있다. \n",
      "2. 이론적 배경\n",
      "본 연구를 위해 RAG 모델과 관련된 자료에 대하여 최\n",
      "근 발표된 주요 연구 논문, 저널 기사 등을 면밀히 분석\n",
      "하고 조사하였다. 본 장에서는 RAG 모델의 개념부터 최\n",
      "신 연구 동향인 Advanced RAG까지 다루고 있다.\n",
      "2.1. RAG 모델의 개요\n",
      "RAG 모델은 질문에 대한 답변을 생성하기 위해 검색\n",
      "과 생성이라는 두 가지 과정을 결합한 모델이다(Lewis et \n",
      "al., 2020). 마치 사람이 궁금한 것을 해결하기 위해 책이\n",
      "나 인터넷을 검색하고, 찾은 정보를 바탕으로 답변을 구\n",
      "성하는 것과 비슷하다. 이 모델은 질문에 대한 답변을 생\n",
      "성하기 위해 먼저 관련 문서를 검색하고, 이를 바탕으로 \n",
      "답변을 생성한다. 이 과정은 질문에 대한 정확한 답변을 \n",
      "생성하는 데 도움이 된다. RAG 모델은 다양한 질문 유형\n",
      "에 대응할 수 있으며, 특정 도메인에 대한 지식이 부족할 \n",
      "경우에도 효과적으로 답변을 생성할 수 있다. 따라서 기\n",
      "존 생성 모델에 비해 정보의 정확성과 일관성을 높일 수 \n",
      "있다는 장점을 가지고 있다.\n",
      "RAG 모델은 아래와 같이 두 단계로 구성된다.\n",
      "• 검색 단계: 주어진 질문과 관련된 정보를 지식에서 \n",
      "검색 엔진을 통해 검색한다.\n",
      "• 생성 단계: 검색된 정보를 기반으로 답변을 생성한다. \n",
      "2.1.1. RAG 모델 구현 흐름\n",
      "RAG 모델은 텍스트 생성 작업을 수행하는 모델로 주\n",
      "어진 소스 데이터로부터 정보를 검색하고, 해당 정보를 \n",
      "활용하여 원하는 텍스트를 생성하는 과정을 수행한다(정\n",
      "천수, 2023d). RAG 사용을 위한 데이터처리 과정은 원본 \n",
      "데이터를 청크(Chunk)단위의 작은 조각으로 나누고 텍스\n",
      "트 데이터를 숫자인 벡터로 전환하는 임베딩(Embedding)\n",
      "정천수\n",
      "106 지식경영연구 제25권 제3호\n",
      "3.2. Advanced RAG Graph 구성 흐름\n",
      "Advanced RAG 모델은 기본적인 RAG 모델의 흐름을 \n",
      "유지하면서, 검색 이후 단계에서 추가적인 과정을 거쳐 \n",
      "답변의 정확도와 일관성을 높인다. Advanced RAG 모델\n",
      "의 구성 흐름은 다음과 같다.\n",
      "① 질의 처리: 사용자의 질의를 입력 받고, 의도 파악 \n",
      "및 분석을 통해 질의의 정확한 의미를 파악한다.\n",
      "② 검색: 질의와 관련된 정보를 탐색하기 위해 검색 엔\n",
      "진을 활용하여 다양한 정보원에서 검색을 수행한다.\n",
      "③ 검색 결과 후보 선정: 검색된 결과 중에서 질의와의 \n",
      "관련성이 높고 신뢰도가 높은 정보들을 후보로 선\n",
      "정한다.\n",
      "④ 후보 랭킹: 선정된 후보들을 질의와의 부합도, 정보\n",
      "의 신뢰도, 다양성 등을 고려하여 랭킹을 정한다.\n",
      "⑤ 답변 생성: 랭킹된 후보 정보들을 기반으로 텍스트 \n",
      "생성 모델을 활용하여 답변을 생성한다.\n",
      "⑥ 답변 갱신: 답변 생성 후에도 지속적으로 새로운 정\n",
      "보를 수집하고 답변을 갱신하여 최신 정보를 제공\n",
      "한다.\n",
      "Advanced RAG 모델의 작동 방법은 다음과 같다.\n",
      "① 질문을 입력한다.\n",
      "② 검색 엔진을 통해 질문과 관련된 정보를 검색한다.\n",
      "③ 정보 추출기를 통해 검색된 정보에서 질문에 대한 \n",
      "답변과 관련된 정보를 추출한다.\n",
      "④ 추출된 정보를 기반으로 답변을 생성한다.\n",
      "⑤ Agent가 답변의 정확도와 유창성을 향상시키기 위\n",
      "해 답변을 수정한다.\n",
      "⑥ 최종 답변을 출력한다.\n",
      "3.3. Agent RAG 적용 방식\n",
      "향상된 수행 절차를 적용하기 위해 LLM이 Agent도구\n",
      "를 사용하여 RAG를 선택하게 구성하는 Agent RAG는 \n",
      "답변 생성 과정에 Agent라는 개념을 도입하여 답변의 정\n",
      "확도와 일관성을 더욱 향상시키는 방식이다. Agent는 답\n",
      "변 생성 과정에서 다음과 같은 역할을 수행하는 핵심 요\n",
      "소이다.\n",
      "• 답변 평가: 생성된 답변의 정확도, 유창성, 신뢰성 등\n",
      "을 평가한다.\n",
      "• 답변 개선: 평가 결과를 바탕으로 답변을 개선한다.\n",
      "• 정보 검색: 답변을 개선하기 위해 필요한 정보를 검\n",
      "색한다.\n",
      "3.4. LangGraph 모듈 적용\n",
      "LangGraph는 LangChain에서 출시한 모듈로 LLM을 \n",
      "사용하여 상태가 있는 다중 Actor 애플리케이션을 빌드\n",
      "하기 위한 라이브러리이다.\n",
      "정천수 (2023d). LLM 애플리케이션 아키텍처를 활용한 생성형 \n",
      "AI 서비스 구현: RAG모델과 LangChain 프레임워크 기반. 지능\n",
      "정보연구, 29(4), 129-164. https://dx.doi.org/10.13088/ \n",
      "jiis.2023.29.4.129\n",
      "9. 정천수 (2024). 도메인 특화 LLM: Mistral 7B를 활용한 금융 \n",
      "업무분야 파인튜닝 및 활용 방법. 지능정보연구, 30(1), 93-120. \n",
      "https://dx.doi.org/10.13088/jiis.2024.30.1.093\n",
      "10. 전준형, 김상철, 김주철, 윤성준 (2024, 1월 31일). 웹 애플리케이\n",
      "션 서버(WAS)에서의 검색 증강 생성(RAG) 기술을 이용한 지식 \n",
      "기반 QA 문제 해결. 한국통신학회 학술대회논문집.\n",
      "[국외 문헌]\n",
      "11. Adam, M., Wessel, M., & Benlian, A. (2021). AI-based \n",
      "Chatbots in customer service and their effects on user \n",
      "compliance. Electronic Markets, 31(2), 427-445.\n",
      "12. Angels, B., Vinamra, B., Renato, L., et al. (2024, January \n",
      "30). RAG vs Fine-tuning: Pipelines, tradeoffs, and a case \n",
      "study on agriculture. arXiv preprint arXiv:2401.08406.\n",
      "13. Asai, A., W u, Z., W ang, Y., Sil, A., & Hajishirzi, H. \n",
      "(2023, October 17). Self-RAG: Learning to retrieve, \n",
      "generate, and critique through self-reflection. arXiv \n",
      "preprint arXiv:2310.11511.\n",
      "14. Jeong, C. S. (2023). A study on the implementation of \n",
      "generative ai services using an enterprise data-based \n",
      "LLM application architecture. Advances in Artificial \n",
      "I n t e l l i g e n c e  a n d  M a c h i n e  L e a r n i n g ,  3(4), 1588-1618. \n",
      "https://dx.doi.org/10.54364/AAIML.2023.1191\n",
      "15. Jeong, S., Baek, J., Cho, S., Hwang, S. J., & Park, J. \n",
      "C. (2024, March 28). Adaptive-RAG: Learning to adapt \n",
      "retrieval-augmented large language models through \n",
      "question complexity. arXiv preprint arXiv:2403.14403.\n",
      "16. Lewis, P., Perez, E., Piktus, A., Petroni, F., Karpukhin, \n",
      "V., Goyal, N., & Kiela, D. (2020). Retrieval-augmented \n",
      "generation for knowledge-intensive nlp tasks. Advances \n",
      "in Neural Information Processing Systems, 33, 9459-9474.\n",
      "17. Przegalinska, A., Ciechanowski, L., Stroz, A., Gloor, P., \n",
      "& Mazurek, G. (2019). In bot we trust: A new methodology \n",
      "of Chatbot performance measures. Business Horizons, \n",
      "62(6), 785-797.\n",
      "18. Sánchez-Díaz, X., Ayala-Bastidas, G., Fonseca-Ortiz, \n",
      "P., Garrido, L. (2018). A knowledge-based methodology \n",
      "for building a conversational Chatbot as an intelligent \n",
      "tutor. Advances in Computational Intelligence, Vol. 11289.\n"
     ]
    }
   ],
   "execution_count": 77
  },
  {
   "metadata": {},
   "cell_type": "markdown",
   "source": "RAG 응답",
   "id": "b3c9fe05ab1681e9"
  },
  {
   "metadata": {
    "ExecuteTime": {
     "end_time": "2025-01-20T10:27:10.235792Z",
     "start_time": "2025-01-20T10:26:59.402507Z"
    }
   },
   "cell_type": "code",
   "source": [
    "messages = [\n",
    "    ChatMessage(role=\"system\", content=\" Advanced RAG 시스템 관한 논문이야\"),\n",
    "    ChatMessage(role=\"user\", content=f\"{result_str} \\n Question: Advanced RAG 시스템에 대해서 알려줘\"),\n",
    "]\n",
    "resp = MistralAI(api_key=api_key).chat(messages)"
   ],
   "id": "ccb4b3f443a8ec01",
   "outputs": [],
   "execution_count": 78
  },
  {
   "metadata": {},
   "cell_type": "markdown",
   "source": "resp",
   "id": "45c163998679058b"
  },
  {
   "metadata": {
    "ExecuteTime": {
     "end_time": "2025-01-20T10:28:58.967680Z",
     "start_time": "2025-01-20T10:28:58.952602Z"
    }
   },
   "cell_type": "code",
   "source": "resp.message.content",
   "id": "be48eec603074874",
   "outputs": [
    {
     "data": {
      "text/plain": [
       "'Advanced RAG(Retrieval-Augmented Generation) 시스템은 질문에 대한 답변을 생성하기 위해 검색과 생성이라는 두 가지 과정을 결합한 모델입니다. 이 시스템은 사용자의 질문에 대해 관련된 정보를 검색하고, 그 정보를 바탕으로 답변을 생성하는 방식으로 작동합니다. 기본적인 RAG 모델의 흐름을 유지하면서, 검색 이후 단계에서 추가적인 과정을 거쳐 답변의 정확도와 일관성을 높이는 방식으로 발전된 모델입니다.\\n\\n### Advanced RAG 시스템의 구성 흐름\\n\\n1. **질의 처리**: 사용자의 질의를 입력 받고, 의도 파악 및 분석을 통해 질의의 정확한 의미를 파악합니다.\\n2. **검색**: 질의와 관련된 정보를 탐색하기 위해 검색 엔진을 활용하여 다양한 정보원에서 검색을 수행합니다.\\n3. **검색 결과 후보 선정**: 검색된 결과 중에서 질의와의 관련성이 높고 신뢰도가 높은 정보들을 후보로 선정합니다.\\n4. **후보 랭킹**: 선정된 후보들을 질의와의 부합도, 정보의 신뢰도, 다양성 등을 고려하여 랭킹을 정합니다.\\n'"
      ]
     },
     "execution_count": 83,
     "metadata": {},
     "output_type": "execute_result"
    }
   ],
   "execution_count": 83
  },
  {
   "metadata": {},
   "cell_type": "markdown",
   "source": "일반적인 응답\n",
   "id": "d33a5e374976309"
  },
  {
   "metadata": {
    "ExecuteTime": {
     "end_time": "2025-01-20T10:29:52.196238Z",
     "start_time": "2025-01-20T10:29:41.022808Z"
    }
   },
   "cell_type": "code",
   "source": [
    "messages = [\n",
    "    ChatMessage(role=\"system\", content=\" \"),\n",
    "    ChatMessage(role=\"user\", content=f\" Question: Advanced RAG 시스템에 대해서 알려줘\"),\n",
    "]\n",
    "resp = MistralAI(api_key=api_key).chat(messages)\n",
    "resp.message.content"
   ],
   "id": "a782aca325c7329f",
   "outputs": [
    {
     "data": {
      "text/plain": [
       "'고급 검색 증강 생성(Retrieval-Augmented Generation, RAG) 시스템은 자연어 처리(NLP)와 정보 검색을 결합한 기술로, 대규모 언어 모델의 생성 능력을 외부 데이터베이스나 문서 저장소에서 검색한 정보와 결합하여 더 정확하고 유용한 응답을 생성하는 것을 목표로 합니다. 이 시스템은 특히 질문 응답(QA) 시스템, 대화형 에이전트, 그리고 다른 정보 검색 관련 애플리케이션에서 유용하게 사용될 수 있습니다.\\n\\n### RAG 시스템의 주요 구성 요소\\n\\n1. **검색 모듈 (Retriever)**:\\n   - 검색 모듈은 사용자의 질문이나 요청을 받아 관련 문서나 정보를 외부 데이터베이스에서 검색합니다.\\n   - 일반적으로 벡터 기반 검색(Vector-based Retrieval)이나 키워드 기반 검색(Keyword-based Retrieval)을 사용합니다.\\n   - 예를 들어, 벡터 기반 검색은 질문과 문서를 벡터로 변환하고, 유사도를 계산하여 가장 관련성이 높은 문서를 검색합니다.\\n\\n2. **생성 모듈 (Generator)**:\\n   - 생성 모듈은 검색된 정보를 바탕으로 최종 응답을'"
      ]
     },
     "execution_count": 85,
     "metadata": {},
     "output_type": "execute_result"
    }
   ],
   "execution_count": 85
  },
  {
   "metadata": {},
   "cell_type": "code",
   "outputs": [],
   "execution_count": null,
   "source": "",
   "id": "f131ac897fdb1e80"
  }
 ],
 "metadata": {
  "kernelspec": {
   "display_name": "Python 3",
   "language": "python",
   "name": "python3"
  },
  "language_info": {
   "codemirror_mode": {
    "name": "ipython",
    "version": 2
   },
   "file_extension": ".py",
   "mimetype": "text/x-python",
   "name": "python",
   "nbconvert_exporter": "python",
   "pygments_lexer": "ipython2",
   "version": "2.7.6"
  }
 },
 "nbformat": 4,
 "nbformat_minor": 5
}
